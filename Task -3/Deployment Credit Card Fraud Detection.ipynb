{
 "cells": [
  {
   "cell_type": "markdown",
   "id": "98883b24",
   "metadata": {},
   "source": [
    "# Deployment\n",
    "First we'll load the Model file that we saved last time, our model is trained in that file,"
   ]
  },
  {
   "cell_type": "code",
   "execution_count": 1,
   "id": "e960c43e",
   "metadata": {},
   "outputs": [],
   "source": [
    "import pickle\n",
    "Model = pickle.load(open('Credit Card Fraud Detection.pkl', 'rb'))"
   ]
  },
  {
   "cell_type": "markdown",
   "id": "cef3da46",
   "metadata": {},
   "source": [
    "for your ease, we did both ways, we set the data (just remove the hastag so you can use that line of code) and also get the data from the user, and then we predict what flower is it?"
   ]
  },
  {
   "cell_type": "code",
   "execution_count": 2,
   "id": "79b02c21",
   "metadata": {},
   "outputs": [
    {
     "name": "stdout",
     "output_type": "stream",
     "text": [
      "Not a Fraud\n"
     ]
    }
   ],
   "source": [
    "import pandas as pd\n",
    "\n",
    "# Create a new DataFrame with the correct column names\n",
    "test_data = pd.DataFrame([[-0.551599533260813, 1.37815522427443, -0.0727811733098497, 0.403992960255733,\n",
    "                          0.0986979012610507, -0.018306777944153, 0.133558376740387, 0.251412098239705,\n",
    "                          -0.0210530534538215, 149.62, 0.277837575558899, -0.189114843888824, 0.128539358273528,\n",
    "                          1.46817697209427, -0.991389847235408, -0.110473910188767, 0.0669280749146731, 0.0,\n",
    "                          0.462387777762292, -0.338320769942518, 0.363786969611213, -1.3598071336738]],\n",
    "                         columns=['V11', 'V4', 'V2', 'V19', 'V8', 'V21', 'V27', 'V20', 'V28',\n",
    "                                  'Amount', 'V22', 'V26', 'V25', 'V15', 'V13', 'V23', 'V24', 'Time', 'V6', 'V5', 'V9', 'V1'])\n",
    "\n",
    "#if you want to take input from the user remove the comment to the below code and use it, \n",
    "\n",
    "# #getting input from the user\n",
    "# V11 = float(input(\"Enter the V11 value: \"))\n",
    "# V4 = float(input(\"Enter the V4 value: \"))\n",
    "# V2 = float(input(\"Enter the V2 value: \"))\n",
    "# V19 = float(input(\"Enter the V19 value: \"))\n",
    "# V8 = float(input(\"Enter the V8 value: \"))\n",
    "# V21 = float(input(\"Enter the V21 value: \"))\n",
    "# V27 = float(input(\"Enter the V27 value: \"))\n",
    "# V20 = float(input(\"Enter the V20 value: \"))\n",
    "# V28 = float(input(\"Enter the V28 value: \"))\n",
    "# Amount = float(input(\"Enter the Amount value: \"))\n",
    "# V22 = float(input(\"Enter the V22 value: \"))\n",
    "# V26 = float(input(\"Enter the V26 value: \"))\n",
    "# V25 = float(input(\"Enter the V25 value: \"))\n",
    "# V15 = float(input(\"Enter the V15 value: \"))\n",
    "# V13 = float(input(\"Enter the V13 value: \"))\n",
    "# V23 = float(input(\"Enter the V26 value: \"))\n",
    "# V24 = float(input(\"Enter the V24 value: \"))\n",
    "# Time = float(input(\"Enter the Time value: \"))\n",
    "# V6 = float(input(\"Enter the V6 value: \"))\n",
    "    \n",
    "# data = [V11, V4, V2, V19, V8, V21, V27, V20, V28, Amount, V22, V26, V25, V15, V13, V23, V24, Time, V6, V5, V9, V1]\n",
    "      \n",
    "# test_data = pd.DataFrame([data], columns=['V11', 'V4', 'V2', 'V19', 'V8', 'V21', 'V27', 'V20', 'V28',\n",
    "#        'Amount', 'V22', 'V26', 'V25', 'V15', 'V13', 'V23', 'V24', 'Time', 'V6',\n",
    "#        'V5', 'V9', 'V1'])\n",
    "\n",
    "# Use the loaded pipeline to make predictions\n",
    "Check_the_payment = Model.predict(test_data)\n",
    "if Check_the_payment == 0:\n",
    "    print(\"Not a Fraud\")\n",
    "else:\n",
    "    print(\"Fraud\")\n",
    "\n",
    "#print(Check_the_payment)"
   ]
  },
  {
   "cell_type": "markdown",
   "id": "ad8e1f5b",
   "metadata": {},
   "source": [
    "# If you like so, Support!! ❤"
   ]
  }
 ],
 "metadata": {
  "kernelspec": {
   "display_name": "Python 3 (ipykernel)",
   "language": "python",
   "name": "python3"
  },
  "language_info": {
   "codemirror_mode": {
    "name": "ipython",
    "version": 3
   },
   "file_extension": ".py",
   "mimetype": "text/x-python",
   "name": "python",
   "nbconvert_exporter": "python",
   "pygments_lexer": "ipython3",
   "version": "3.11.3"
  }
 },
 "nbformat": 4,
 "nbformat_minor": 5
}
