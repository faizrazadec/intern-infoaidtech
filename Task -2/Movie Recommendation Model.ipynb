{
 "cells": [
  {
   "cell_type": "markdown",
   "id": "95dfa083",
   "metadata": {},
   "source": [
    "# Task 2 (Movie Recommendation Model)"
   ]
  },
  {
   "cell_type": "markdown",
   "id": "f295cca2",
   "metadata": {},
   "source": [
    "### Reading Data\n",
    "First: Import the pandas library to read the file, to see the file, use .head() method for first rows of the dataframe, cause maybe your data will be soo much large, so it's a good practice to print just 5 rows instead of all dataframe`"
   ]
  },
  {
   "cell_type": "code",
   "execution_count": 1,
   "id": "74df7d00",
   "metadata": {},
   "outputs": [
    {
     "data": {
      "text/html": [
       "<div>\n",
       "<style scoped>\n",
       "    .dataframe tbody tr th:only-of-type {\n",
       "        vertical-align: middle;\n",
       "    }\n",
       "\n",
       "    .dataframe tbody tr th {\n",
       "        vertical-align: top;\n",
       "    }\n",
       "\n",
       "    .dataframe thead th {\n",
       "        text-align: right;\n",
       "    }\n",
       "</style>\n",
       "<table border=\"1\" class=\"dataframe\">\n",
       "  <thead>\n",
       "    <tr style=\"text-align: right;\">\n",
       "      <th></th>\n",
       "      <th>movieId</th>\n",
       "      <th>title</th>\n",
       "      <th>genres</th>\n",
       "    </tr>\n",
       "  </thead>\n",
       "  <tbody>\n",
       "    <tr>\n",
       "      <th>0</th>\n",
       "      <td>1</td>\n",
       "      <td>Toy Story (1995)</td>\n",
       "      <td>Adventure|Animation|Children|Comedy|Fantasy</td>\n",
       "    </tr>\n",
       "    <tr>\n",
       "      <th>1</th>\n",
       "      <td>2</td>\n",
       "      <td>Jumanji (1995)</td>\n",
       "      <td>Adventure|Children|Fantasy</td>\n",
       "    </tr>\n",
       "    <tr>\n",
       "      <th>2</th>\n",
       "      <td>3</td>\n",
       "      <td>Grumpier Old Men (1995)</td>\n",
       "      <td>Comedy|Romance</td>\n",
       "    </tr>\n",
       "    <tr>\n",
       "      <th>3</th>\n",
       "      <td>4</td>\n",
       "      <td>Waiting to Exhale (1995)</td>\n",
       "      <td>Comedy|Drama|Romance</td>\n",
       "    </tr>\n",
       "    <tr>\n",
       "      <th>4</th>\n",
       "      <td>5</td>\n",
       "      <td>Father of the Bride Part II (1995)</td>\n",
       "      <td>Comedy</td>\n",
       "    </tr>\n",
       "  </tbody>\n",
       "</table>\n",
       "</div>"
      ],
      "text/plain": [
       "   movieId                               title  \\\n",
       "0        1                    Toy Story (1995)   \n",
       "1        2                      Jumanji (1995)   \n",
       "2        3             Grumpier Old Men (1995)   \n",
       "3        4            Waiting to Exhale (1995)   \n",
       "4        5  Father of the Bride Part II (1995)   \n",
       "\n",
       "                                        genres  \n",
       "0  Adventure|Animation|Children|Comedy|Fantasy  \n",
       "1                   Adventure|Children|Fantasy  \n",
       "2                               Comedy|Romance  \n",
       "3                         Comedy|Drama|Romance  \n",
       "4                                       Comedy  "
      ]
     },
     "execution_count": 1,
     "metadata": {},
     "output_type": "execute_result"
    }
   ],
   "source": [
    "import pandas as pd\n",
    "data = pd.read_csv(\"movies.csv\")\n",
    "data.head()"
   ]
  },
  {
   "cell_type": "markdown",
   "id": "ef061d20",
   "metadata": {},
   "source": [
    "### Cleaning Data\n",
    "- For the cleaning of data, there are many techinques, everyone use the algos to do so!! The Best Data Cleaning Techniques for Preparing Your Data\n",
    "\n",
    "1. Remove unnecessary values\n",
    "2. Remove duplicate data.\n",
    "3. Convert data types.\n",
    "4. Search for missing values.\n",
    "5. Use a clear format.\n",
    "6. Remove unwanted outliers."
   ]
  },
  {
   "cell_type": "markdown",
   "id": "ad7d34bd",
   "metadata": {},
   "source": [
    "1. Removing Unnecessary Values: Unnecessary values is just making the size of data, it effects nothings or affect less on the data, we usually remove unnecessary features form the dataframe, because it make the high accuracy of the model.\n",
    "- Here, in the dataset, we can see that we're getting the recommandation of the movies based on collaboration (genres), so the don't have anything to remove!"
   ]
  },
  {
   "cell_type": "markdown",
   "id": "0c6e7d53",
   "metadata": {},
   "source": [
    "2. Removing Duplicates: Duplicates also just make the data size big, so we remove them, well, if we have very less data, and we want to train a model, it'll give us very bad accuracy, so there, we make duplicates to we can get good accuracy because as model requires a large data for training the model."
   ]
  },
  {
   "cell_type": "code",
   "execution_count": 2,
   "id": "ed3364d3",
   "metadata": {},
   "outputs": [
    {
     "data": {
      "text/plain": [
       "0"
      ]
     },
     "execution_count": 2,
     "metadata": {},
     "output_type": "execute_result"
    }
   ],
   "source": [
    "data.duplicated().sum()  #horryyyy! we don't have any duplicates"
   ]
  },
  {
   "cell_type": "markdown",
   "id": "d5565bd6",
   "metadata": {},
   "source": [
    "3. Convert data types: We have to convert the data types of the values to their defaults, e.g we have a column of Age, where the values are in '2,3,4,5', it's int by default, but if it's str, then there's a problem, in future we might have to process the Age column, but it'll show us error as we can't process on str!(math functions)\n",
    "- That's why, convert the data type to their defaults!"
   ]
  },
  {
   "cell_type": "code",
   "execution_count": 3,
   "id": "1001403c",
   "metadata": {},
   "outputs": [
    {
     "data": {
      "text/plain": [
       "movieId     int64\n",
       "title      object\n",
       "genres     object\n",
       "dtype: object"
      ]
     },
     "execution_count": 3,
     "metadata": {},
     "output_type": "execute_result"
    }
   ],
   "source": [
    "data.dtypes  #everything is good!"
   ]
  },
  {
   "cell_type": "markdown",
   "id": "cbd24304",
   "metadata": {},
   "source": [
    "4. Search for missing values: In the data, there might be possible, we're missing some values, like someone forget to put his/her Age, and in the database, it's empty\n",
    "- To get better accuracy, and make our model to fit properly, we have to replace the missing values with their relevent ones, e.g if we're missing the Age, we can replace the Age with the most common value (which is present in many datasets) etc."
   ]
  },
  {
   "cell_type": "code",
   "execution_count": 4,
   "id": "11a1c31b",
   "metadata": {},
   "outputs": [
    {
     "data": {
      "text/plain": [
       "movieId    0\n",
       "title      0\n",
       "genres     0\n",
       "dtype: int64"
      ]
     },
     "execution_count": 4,
     "metadata": {},
     "output_type": "execute_result"
    }
   ],
   "source": [
    "data.isna().sum()  #everything is good!"
   ]
  },
  {
   "cell_type": "code",
   "execution_count": 5,
   "id": "44cb1f31",
   "metadata": {},
   "outputs": [
    {
     "data": {
      "text/plain": [
       "movieId    0\n",
       "title      0\n",
       "genres     0\n",
       "dtype: int64"
      ]
     },
     "execution_count": 5,
     "metadata": {},
     "output_type": "execute_result"
    }
   ],
   "source": [
    "data.isnull().sum()  #everything is good!"
   ]
  },
  {
   "cell_type": "markdown",
   "id": "c962d16e",
   "metadata": {},
   "source": [
    "5. Use a clear format: We have to make the one format in all the data so we can get the good accuracy\n",
    "from one format i mean, just suppose we're asked to fill a box, in which we have to insert out Age, suppose the age is 12, some will type like 12 years, some will like 12.4, some will like 12 years 4 months,\n",
    "so there's many format for just a single thing, we have to set one format, it's also a part of cleaning the data.\n",
    "*but luckily here, we don't have any*"
   ]
  },
  {
   "cell_type": "markdown",
   "id": "177d49f9",
   "metadata": {},
   "source": [
    "### Vectorizing the Features\n",
    "**TfidfVectorizer** it'll convert the text into the matrix, which will help us to get the recommandation, in simply accross each **genre** we'll get a number value, which we'll use after in Linear_Kernel to find the similarity in the dataset!"
   ]
  },
  {
   "cell_type": "code",
   "execution_count": 6,
   "id": "c361fe44",
   "metadata": {},
   "outputs": [],
   "source": [
    "from sklearn.feature_extraction.text import TfidfVectorizer\n",
    "features = data['genres']\n",
    "vectors = TfidfVectorizer()\n",
    "feature_vectors = vectors.fit_transform(features)\n",
    "#print(feature_vectors)"
   ]
  },
  {
   "cell_type": "markdown",
   "id": "85037383",
   "metadata": {},
   "source": [
    "### Finding the Similarities\n",
    "- **linear_kernel** is a powerful tool of the scikit learn, which find the similarity in the numbers, e.g it's '1' in my side and i want to find the similarity in your side, i'll just use the **linear_kernel** it'll take my '1' as input and then will look in your whole dataset, whereever it'll find the same '1' it'll take it out and at the end, a matrix of similarity will be formed"
   ]
  },
  {
   "cell_type": "code",
   "execution_count": 7,
   "id": "368bb70f",
   "metadata": {},
   "outputs": [],
   "source": [
    "from sklearn.metrics.pairwise import linear_kernel\n",
    "recomdation = linear_kernel(feature_vectors)\n",
    "#recomdation"
   ]
  },
  {
   "cell_type": "markdown",
   "id": "a94954b4",
   "metadata": {},
   "source": [
    "Defining the funtion\n",
    "- Here, we are all set!\n",
    "- let's explain the function\n",
    "1. **def get_recomendation (movie_name, num_recomendation):** defining the function using the keyword **def**, **get_recomendation** is the function and inside small brackets, they are parameteres of the function!\n",
    "2. **listall = data['title'].tolist()**: from the dataset, we'll get the column \"title\" and turn it into the list\n",
    "3. **close_one = difflib.get_close_matches(movie_name, listall)[0]**: \"difflib\" is the library, which is use to find the nearest thing, like you gave it '3' it'll give you all the values which will be close to 3! we apply the difflib on the \"listall\" in which we store all the titles of the movies, whatever the user will type, we'll fetch the close one value, so we use **[0]** to get the first value\n",
    "4. **movie_id = data.loc[data['title'] == close_one, 'movieId'].values[0]**: as we are getting the movie name, we want to get it's movieId, you wonder, why?? let me explain you, we want to get the similar movies, and we're using Liner_kernel, it works on numerical values, we if we'll give movie name, it won't work, so in this line of code, we're fetching the movieId from the closed value\n",
    "5. **similarity = list(enumerate(recomdation[movie_id]))**: finally we'll find the similarty of the movies, it'll give us all the similar movies, inspite it's all or just one\n",
    "6. **sort_recom = sorted(similarity, key = lambda x:x[1])**: sorting the similar movies on the key of there index, so we can get most recommended movie\n",
    "- *rest of the code is easy to understand, but still if you need help, just ask me using github*"
   ]
  },
  {
   "cell_type": "code",
   "execution_count": 8,
   "id": "bfaac2bf",
   "metadata": {},
   "outputs": [],
   "source": [
    "import difflib\n",
    "from IPython.display import HTML\n",
    "\n",
    "def get_recomendation (movie_name, num_recomendation):\n",
    "    listall = data['title'].tolist()\n",
    "    close_one = difflib.get_close_matches(movie_name, listall)\n",
    "    closed = close_one[0]\n",
    "    movie_id = data.loc[data['title'] == closed, 'movieId'].values[0]\n",
    "    similarity = list(enumerate(recomdation[movie_id]))\n",
    "    sort_recom = sorted(similarity, key = lambda x:x[1])\n",
    "    n_recom = sort_recom[1:num_recomendation+1]\n",
    "    indices = [i[0] for i in n_recom]\n",
    "    final = data['title'].iloc[indices].tolist()\n",
    "    for i in final:\n",
    "        print(i)"
   ]
  },
  {
   "cell_type": "markdown",
   "id": "6247876b",
   "metadata": {},
   "source": [
    "# See Recommendation"
   ]
  },
  {
   "cell_type": "code",
   "execution_count": 9,
   "id": "6564ae86",
   "metadata": {},
   "outputs": [
    {
     "name": "stdout",
     "output_type": "stream",
     "text": [
      "Enter the movie name: Toy Story\n",
      "How many recomendation you want: 7\n",
      "\n",
      "\n",
      "Waiting to Exhale (1995)\n",
      "Father of the Bride Part II (1995)\n",
      "Heat (1995)\n",
      "Sabrina (1995)\n",
      "Sudden Death (1995)\n",
      "American President, The (1995)\n",
      "Dracula: Dead and Loving It (1995)\n"
     ]
    }
   ],
   "source": [
    "from IPython.display import HTML\n",
    "\n",
    "movie_name = str(input(\"Enter the movie name: \"))\n",
    "listall = data['title'].tolist()\n",
    "close_one = difflib.get_close_matches(movie_name, listall)\n",
    "\n",
    "if len(close_one) == 0:\n",
    "    error_message = \"\"\"\n",
    "    <p><b>This is a Project, not a real-time Model.</b></p>\n",
    "    <p>To see recommendations, please select a movie from the dataset used in this model.</p>\n",
    "    \"\"\"\n",
    "    display(HTML(error_message))\n",
    "\n",
    "else:\n",
    "    num = int(input(\"How many recomendation you want: \"))\n",
    "    print(\"\\n\")\n",
    "    if num > 10:\n",
    "        print(\"Don't Exceed from 10\")\n",
    "        exit()\n",
    "    else:\n",
    "        num_recomendation = num\n",
    "get_recomendation(movie_name, num_recomendation)"
   ]
  },
  {
   "cell_type": "code",
   "execution_count": null,
   "id": "0350bd6e",
   "metadata": {},
   "outputs": [],
   "source": []
  }
 ],
 "metadata": {
  "kernelspec": {
   "display_name": "Python 3 (ipykernel)",
   "language": "python",
   "name": "python3"
  },
  "language_info": {
   "codemirror_mode": {
    "name": "ipython",
    "version": 3
   },
   "file_extension": ".py",
   "mimetype": "text/x-python",
   "name": "python",
   "nbconvert_exporter": "python",
   "pygments_lexer": "ipython3",
   "version": "3.11.3"
  }
 },
 "nbformat": 4,
 "nbformat_minor": 5
}
