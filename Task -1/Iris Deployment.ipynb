{
 "cells": [
  {
   "cell_type": "markdown",
   "id": "a3979f37",
   "metadata": {},
   "source": [
    "# Deployment"
   ]
  },
  {
   "cell_type": "markdown",
   "id": "bccb2434",
   "metadata": {},
   "source": [
    "- First we'll load the Model file that we saved last time, our model is trained in that file, "
   ]
  },
  {
   "cell_type": "code",
   "execution_count": 1,
   "id": "620d9266",
   "metadata": {},
   "outputs": [],
   "source": [
    "import pickle\n",
    "Model = pickle.load(open('Task-1 (Iris Deployment).pkl', 'rb'))"
   ]
  },
  {
   "cell_type": "markdown",
   "id": "0661bdee",
   "metadata": {},
   "source": [
    "- for your ease, we did both ways, we set the data (just remove the hastag so you can use that line of code) and also get the data from the user, and then we predict what flower is it?"
   ]
  },
  {
   "cell_type": "code",
   "execution_count": 2,
   "id": "382e5653",
   "metadata": {},
   "outputs": [
    {
     "name": "stdout",
     "output_type": "stream",
     "text": [
      "Enter the sepal length: 2\n",
      "Enter the sepal width: 4\n",
      "Enter the petal length: 5\n",
      "Enter the petal width: 2\n",
      "['Iris-setosa']\n"
     ]
    }
   ],
   "source": [
    "import pandas as pd\n",
    "\n",
    "# Create a new DataFrame with the correct column names\n",
    "#test_data = pd.DataFrame([[5.1, 3.5, 1.4, 0.2]], columns=['sepal_length', 'sepal_width', 'petal_length', 'petal_width'])\n",
    "\n",
    "#getting input from the user\n",
    "sepal_length = input(\"Enter the sepal length: \")\n",
    "sepal_width = input(\"Enter the sepal width: \")\n",
    "petal_length = input(\"Enter the petal length: \")\n",
    "petal_width = input(\"Enter the petal width: \")\n",
    "\n",
    "data = [sepal_length, sepal_width, petal_length, petal_width]\n",
    "test_data = pd.DataFrame([data], columns=['sepal_length', 'sepal_width', 'petal_length', 'petal_width'])\n",
    "\n",
    "# Use the loaded pipeline to make predictions\n",
    "predicted_species = Model.predict(test_data)\n",
    "\n",
    "print(predicted_species)"
   ]
  },
  {
   "cell_type": "markdown",
   "id": "6a6736c3",
   "metadata": {},
   "source": [
    "# If you like so, Support!! ❤"
   ]
  }
 ],
 "metadata": {
  "kernelspec": {
   "display_name": "Python 3 (ipykernel)",
   "language": "python",
   "name": "python3"
  },
  "language_info": {
   "codemirror_mode": {
    "name": "ipython",
    "version": 3
   },
   "file_extension": ".py",
   "mimetype": "text/x-python",
   "name": "python",
   "nbconvert_exporter": "python",
   "pygments_lexer": "ipython3",
   "version": "3.11.3"
  }
 },
 "nbformat": 4,
 "nbformat_minor": 5
}
